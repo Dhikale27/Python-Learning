{
 "cells": [
  {
   "cell_type": "code",
   "execution_count": 1,
   "metadata": {},
   "outputs": [
    {
     "name": "stdout",
     "output_type": "stream",
     "text": [
      "pygame 2.0.1 (SDL 2.0.14, Python 3.8.5)\n",
      "Hello from the pygame community. https://www.pygame.org/contribute.html\n"
     ]
    }
   ],
   "source": [
    "import pygame\n",
    "import tkinter as tkr\n",
    "from tkinter.filedialog import askdirectory\n",
    "import os"
   ]
  },
  {
   "cell_type": "code",
   "execution_count": 4,
   "metadata": {},
   "outputs": [],
   "source": [
    "root= tkr.Tk()\n",
    "\n",
    "root.title('Music Player')\n",
    "root.geometry('450x350')\n",
    "\n",
    "#Creating directory to store song list\n",
    "directory= askdirectory()\n",
    "\n",
    "#Change current directory to directory where songs are stored\n",
    "os.chdir(directory)\n",
    "\n",
    "songlist= os.listdir()  # os.listdir returns a list containing the names of the entries in the directory given by the path\n",
    "\n",
    "playlist= tkr.Listbox(root, font='Helvetica 12 bold', bg='yellow', selectmode= tkr.SINGLE)  \n",
    "\n",
    "'''\n",
    "Tkinters Listbox is used to display the list items to the users.\n",
    "We can place only text itmes in the Listbox and all text items\n",
    "contain the same font and color\n",
    "\n",
    "'''\n",
    "#Adding song from directory to playlist\n",
    "for item in songlist:\n",
    "    pos=0\n",
    "    playlist.insert(pos, item)\n",
    "    pos = pos + 1\n",
    "    \n",
    "'''\n",
    "pygame.mixer module is used for loading and playing the sound.\n",
    "it has to be initialised to be used.\n",
    "\n",
    "'''\n",
    "#Initialising the pygame\n",
    "pygame.init()\n",
    "pygame.mixer.init()\n",
    "\n",
    "\n",
    "def play():\n",
    "    '''\n",
    "    pygame.mixer.music.load is the pygame module for controlling \n",
    "    streamed audio and also loads a music file for playback\n",
    "\n",
    "    '''\n",
    "\n",
    "    pygame.mixer.music.load(playlist.get(tkr.ACTIVE))\n",
    "    var.set(playlist.get(tkr.ACTIVE))\n",
    "    pygame.mixer.music.play()\n",
    "    \n",
    "def ExitMusicPlayer():\n",
    "    pygame.mixer.music.stop()\n",
    "    \n",
    "def pause():\n",
    "    pygame.mixer.music.pause()\n",
    "    \n",
    "def unpause():\n",
    "    pygame.mixer.music.unpause()\n",
    "    \n",
    "    \n",
    "btn1= tkr.Button(root, font= 'Helvetica 12 bold', text= 'Play', command= play, bg='red', fg= 'white')\n",
    "btn2= tkr.Button(root, font= 'Helvetica 12 bold', text= 'Stop', command= ExitMusicPlayer, bg='red', fg= 'white')\n",
    "btn3= tkr.Button(root, font= 'Helvetica 12 bold', text= 'Pause', command= pause, bg='red', fg= 'white')\n",
    "btn4= tkr.Button(root, font= 'Helvetica 12 bold', text= 'Unpause', command= unpause, bg='red', fg= 'white')\n",
    "\n",
    "\n",
    "var= tkr.StringVar()\n",
    "songtitle= tkr.Label(root, font='Helvetica 12 bold', textvariable=var)\n",
    "\n",
    "songtitle.pack()\n",
    "btn1.pack(fill='x')\n",
    "btn2.pack(fill='x')\n",
    "btn3.pack(fill='x')\n",
    "btn4.pack(fill='x')\n",
    "playlist.pack(fill='both', expand='yes')\n",
    "\n",
    "    \n",
    "    \n",
    "    \n",
    "\n",
    "\n",
    "\n",
    "root.mainloop()"
   ]
  },
  {
   "cell_type": "code",
   "execution_count": null,
   "metadata": {},
   "outputs": [],
   "source": []
  }
 ],
 "metadata": {
  "kernelspec": {
   "display_name": "Python 3",
   "language": "python",
   "name": "python3"
  },
  "language_info": {
   "codemirror_mode": {
    "name": "ipython",
    "version": 3
   },
   "file_extension": ".py",
   "mimetype": "text/x-python",
   "name": "python",
   "nbconvert_exporter": "python",
   "pygments_lexer": "ipython3",
   "version": "3.8.5"
  }
 },
 "nbformat": 4,
 "nbformat_minor": 4
}
