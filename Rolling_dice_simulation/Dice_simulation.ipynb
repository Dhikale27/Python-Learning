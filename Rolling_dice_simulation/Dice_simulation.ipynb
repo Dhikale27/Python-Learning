{
 "cells": [
  {
   "cell_type": "code",
   "execution_count": 1,
   "metadata": {},
   "outputs": [],
   "source": [
    "from tkinter import *\n",
    "import random\n",
    "\n",
    "from PIL import Image, ImageTk"
   ]
  },
  {
   "cell_type": "code",
   "execution_count": 2,
   "metadata": {},
   "outputs": [],
   "source": [
    "root= Tk()\n",
    "root.geometry('300x300')\n",
    "root.title('Rolling dice Simulator')\n",
    "root.iconbitmap('rolling_dice_icon.ico')\n",
    "\n",
    "\n",
    "Label(root, text=\"\").pack()\n",
    "\n",
    "#creating Lable for dice...\n",
    "\n",
    "lst_dice= ['die1.PNG', 'die2.PNG', 'die3.PNG', 'die4.PNG', 'die5.PNG', 'die6.PNG']\n",
    "\n",
    "img= ImageTk.PhotoImage(Image.open(random.choice(lst_dice)))\n",
    "\n",
    "lable_dice = Label(root, image=img)\n",
    "lable_dice.image = img\n",
    "lable_dice.pack()\n",
    "\n",
    "\n",
    "def on_click():\n",
    "    #importing image from directory for simulation\n",
    "    img= ImageTk.PhotoImage(Image.open(random.choice(lst_dice)))\n",
    "    \n",
    "    # inserting image in already creted lable for dice\n",
    "    lable_dice.configure(image= img)\n",
    "    \n",
    "    lable_dice.image= img\n",
    "\n",
    "Label(root, text='').pack()\n",
    "#Adding Button for simulation\n",
    "\n",
    "btn= Button(root, text='Click for simulation!', fg='black', command=on_click)\n",
    "btn.pack()\n",
    "\n",
    "root.mainloop()"
   ]
  },
  {
   "cell_type": "code",
   "execution_count": null,
   "metadata": {},
   "outputs": [],
   "source": []
  },
  {
   "cell_type": "code",
   "execution_count": null,
   "metadata": {},
   "outputs": [],
   "source": []
  }
 ],
 "metadata": {
  "kernelspec": {
   "display_name": "Python 3",
   "language": "python",
   "name": "python3"
  },
  "language_info": {
   "codemirror_mode": {
    "name": "ipython",
    "version": 3
   },
   "file_extension": ".py",
   "mimetype": "text/x-python",
   "name": "python",
   "nbconvert_exporter": "python",
   "pygments_lexer": "ipython3",
   "version": "3.8.5"
  }
 },
 "nbformat": 4,
 "nbformat_minor": 4
}
